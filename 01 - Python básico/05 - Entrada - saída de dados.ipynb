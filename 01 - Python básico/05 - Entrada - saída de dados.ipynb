{
 "cells": [
  {
   "cell_type": "markdown",
   "metadata": {},
   "source": [
    "# Ler e escrever arquivos de texto"
   ]
  },
  {
   "cell_type": "code",
   "execution_count": null,
   "metadata": {},
   "outputs": [],
   "source": [
    "arq = 'arquivo.txt'\n",
    "f = open(arq, 'w')# Abrir o arquivo (modo escrita).\n",
    "f.write('Olá')\n",
    "f.close()# Fechar o arquivo após o uso.\n",
    "\n",
    "# IMPORTANTE:\n",
    "# Nesse método, se ocorrer algum erro antes que o arquivo\n",
    "# seja fechado ele fica aberto na memória do computador."
   ]
  },
  {
   "cell_type": "code",
   "execution_count": null,
   "metadata": {},
   "outputs": [],
   "source": [
    "# Como evitar gasto de memória...\n",
    "with open(arq, 'r') as f:# O arquivo sempre é fechado ao fim do bloco with.\n",
    "    text = f.read()\n",
    "print(text)"
   ]
  },
  {
   "cell_type": "markdown",
   "metadata": {},
   "source": [
    "## Codificação dos caracteres\n",
    "### Melhor sempre usar utf-8"
   ]
  },
  {
   "cell_type": "code",
   "execution_count": null,
   "metadata": {},
   "outputs": [],
   "source": [
    "with open(arq, 'w', encoding = 'utf8') as f:\n",
    "    f.write('Olá')"
   ]
  },
  {
   "cell_type": "code",
   "execution_count": null,
   "metadata": {},
   "outputs": [],
   "source": [
    "with open(arq, 'r', encoding = 'utf8') as f:\n",
    "    text = f.read()\n",
    "print(text)"
   ]
  }
 ],
 "metadata": {
  "kernelspec": {
   "display_name": "Python 3",
   "language": "python",
   "name": "python3"
  },
  "language_info": {
   "codemirror_mode": {
    "name": "ipython",
    "version": 3
   },
   "file_extension": ".py",
   "mimetype": "text/x-python",
   "name": "python",
   "nbconvert_exporter": "python",
   "pygments_lexer": "ipython3",
   "version": "3.7.1"
  }
 },
 "nbformat": 4,
 "nbformat_minor": 2
}
