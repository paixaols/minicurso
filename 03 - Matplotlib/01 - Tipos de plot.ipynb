{
 "cells": [
  {
   "cell_type": "code",
   "execution_count": null,
   "metadata": {},
   "outputs": [],
   "source": [
    "import matplotlib.pyplot as plt\n",
    "import numpy as np"
   ]
  },
  {
   "cell_type": "code",
   "execution_count": null,
   "metadata": {},
   "outputs": [],
   "source": [
    "x = np.arange(1, 5)\n",
    "y = x**2"
   ]
  },
  {
   "cell_type": "markdown",
   "metadata": {},
   "source": [
    "## Plot de linha"
   ]
  },
  {
   "cell_type": "code",
   "execution_count": null,
   "metadata": {},
   "outputs": [],
   "source": [
    "plt.plot(x, y)"
   ]
  },
  {
   "cell_type": "code",
   "execution_count": null,
   "metadata": {},
   "outputs": [],
   "source": [
    "plt.plot(x, y)\n",
    "plt.plot(x, y+1)\n",
    "plt.plot(x, y+2)\n",
    "plt.plot(x, y+3)"
   ]
  },
  {
   "cell_type": "markdown",
   "metadata": {},
   "source": [
    "## Plot de barra"
   ]
  },
  {
   "cell_type": "code",
   "execution_count": null,
   "metadata": {},
   "outputs": [],
   "source": [
    "plt.bar(x, y)"
   ]
  },
  {
   "cell_type": "code",
   "execution_count": null,
   "metadata": {},
   "outputs": [],
   "source": [
    "plt.barh(x, y)"
   ]
  },
  {
   "cell_type": "markdown",
   "metadata": {},
   "source": [
    "## Histograma"
   ]
  },
  {
   "cell_type": "code",
   "execution_count": null,
   "metadata": {},
   "outputs": [],
   "source": [
    "num = [0,1,1,2,3]\n",
    "plt.hist(num)"
   ]
  },
  {
   "cell_type": "code",
   "execution_count": null,
   "metadata": {},
   "outputs": [],
   "source": [
    "num = [0,1,1,2,3]\n",
    "bins = [0,1,2,3]\n",
    "plt.hist(num, bins = bins, rwidth = .8)"
   ]
  },
  {
   "cell_type": "markdown",
   "metadata": {},
   "source": [
    "## Título e legendas"
   ]
  },
  {
   "cell_type": "code",
   "execution_count": null,
   "metadata": {},
   "outputs": [],
   "source": [
    "plt.plot(x, y, label = 'Plot de linha')\n",
    "plt.legend(loc = 'lower right')# loc: lower right, lower left, upper right, upper left, center.\n",
    "#plt.legend(loc = (0.1, 0.7))# Coordenadas da legenda.\n",
    "\n",
    "plt.title('Título')\n",
    "\n",
    "plt.xlabel('Eixo x')\n",
    "plt.ylabel('Eixo y')"
   ]
  },
  {
   "cell_type": "markdown",
   "metadata": {},
   "source": [
    "### Usando comandos LaTeX"
   ]
  },
  {
   "cell_type": "code",
   "execution_count": null,
   "metadata": {},
   "outputs": [],
   "source": [
    "plt.plot(x, y)\n",
    "\n",
    "plt.xlabel(r'$\\theta$')\n",
    "plt.ylabel(r'$\\omega$')\n",
    "\n",
    "plt.title(r'$\\omega = \\omega(\\theta)$')"
   ]
  },
  {
   "cell_type": "markdown",
   "metadata": {},
   "source": [
    "## Formatação do gráfico\n",
    "### Cores"
   ]
  },
  {
   "cell_type": "code",
   "execution_count": null,
   "metadata": {},
   "outputs": [],
   "source": [
    "plt.plot(x, y, 'w')# White\n",
    "plt.plot(x, y+1, 'b')# Blue\n",
    "plt.plot(x, y+2, 'k')# blacK\n",
    "plt.plot(x, y+3, 'r')# Red\n",
    "plt.plot(x, y+4, 'g')# Green\n",
    "plt.plot(x, y+5, 'y')# Yellow\n",
    "plt.plot(x, y+6, 'c')# Cyan\n",
    "plt.plot(x, y+7, 'm')# Magenta\n",
    "\n",
    "# Código de cores hexadecimal.\n",
    "plt.plot(x, y+9, '#7FFF00')\n",
    "\n",
    "# Nomes html.\n",
    "plt.plot(x, y+11, 'cadetblue')"
   ]
  },
  {
   "cell_type": "markdown",
   "metadata": {},
   "source": [
    "### Símbolos"
   ]
  },
  {
   "cell_type": "code",
   "execution_count": null,
   "metadata": {},
   "outputs": [],
   "source": [
    "plt.plot(x, y, 'o')\n",
    "plt.plot(x, y+1, 's')\n",
    "plt.plot(x, y+2, 'D')\n",
    "plt.plot(x, y+3, '*')\n",
    "plt.plot(x, y+4, 'v')\n",
    "plt.plot(x, y+5, '^')\n",
    "plt.plot(x, y+6, '>')\n",
    "plt.plot(x, y+7, '<')\n",
    "plt.plot(x, y+8, 'x')\n",
    "plt.plot(x, y+9, '+')"
   ]
  },
  {
   "cell_type": "markdown",
   "metadata": {},
   "source": [
    "### Estilo de linha"
   ]
  },
  {
   "cell_type": "code",
   "execution_count": null,
   "metadata": {},
   "outputs": [],
   "source": [
    "plt.plot(x, y, '-')\n",
    "plt.plot(x, y+1, '--')\n",
    "plt.plot(x, y+2, '-.')\n",
    "plt.plot(x, y+3, ':')"
   ]
  },
  {
   "cell_type": "markdown",
   "metadata": {},
   "source": [
    "### Combinando cor, símbolo e linha (forma curta)"
   ]
  },
  {
   "cell_type": "code",
   "execution_count": null,
   "metadata": {},
   "outputs": [],
   "source": [
    "plt.plot(x, y, '-ob')\n",
    "plt.plot(x, y+1, '--sg')"
   ]
  },
  {
   "cell_type": "markdown",
   "metadata": {},
   "source": [
    "### Combinando cor, símbolo e linha (forma longa)\n",
    "...e outros parâmetros"
   ]
  },
  {
   "cell_type": "code",
   "execution_count": null,
   "metadata": {},
   "outputs": [],
   "source": [
    "plt.plot(x, y, linestyle = '--', marker = 'o', markersize = 10, color = 'b', markeredgecolor = 'k', markerfacecolor = 'c')"
   ]
  },
  {
   "cell_type": "markdown",
   "metadata": {},
   "source": [
    "## Salvando a figura"
   ]
  },
  {
   "cell_type": "code",
   "execution_count": null,
   "metadata": {},
   "outputs": [],
   "source": [
    "plt.plot(x, y, linestyle = '--', marker = 'o', markersize = 10, color = 'b', markeredgecolor = 'k', markerfacecolor = 'c')\n",
    "\n",
    "plt.savefig('figura1.png', dpi = 500)"
   ]
  }
 ],
 "metadata": {
  "kernelspec": {
   "display_name": "Python 3",
   "language": "python",
   "name": "python3"
  },
  "language_info": {
   "codemirror_mode": {
    "name": "ipython",
    "version": 3
   },
   "file_extension": ".py",
   "mimetype": "text/x-python",
   "name": "python",
   "nbconvert_exporter": "python",
   "pygments_lexer": "ipython3",
   "version": "3.7.1"
  }
 },
 "nbformat": 4,
 "nbformat_minor": 4
}
