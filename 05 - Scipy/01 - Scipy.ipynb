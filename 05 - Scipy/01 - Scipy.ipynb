{
 "cells": [
  {
   "cell_type": "markdown",
   "metadata": {},
   "source": [
    "# Submódulos do scipy\n",
    "* scipy.constants\n",
    "* scipy.special\n",
    "* scipy.integrate\n",
    "* scipy.stats\n",
    "* scipy.optimize\n",
    "* scipy.signal\n",
    "* scipy.interpolate"
   ]
  },
  {
   "cell_type": "code",
   "execution_count": null,
   "metadata": {},
   "outputs": [],
   "source": [
    "from scipy import constants\n",
    "from scipy import special\n",
    "from scipy import integrate\n",
    "from scipy import stats\n",
    "from scipy import optimize\n",
    "from scipy import signal\n",
    "from scipy import interpolate\n",
    "\n",
    "import numpy as np\n",
    "import matplotlib.pyplot as plt"
   ]
  },
  {
   "cell_type": "markdown",
   "metadata": {},
   "source": [
    "## scipy.constants"
   ]
  },
  {
   "cell_type": "code",
   "execution_count": null,
   "metadata": {},
   "outputs": [],
   "source": [
    "print('pi:', constants.pi)\n",
    "print('Velocidade da luz:', constants.c)\n",
    "print('Cte de Planck:')\n",
    "print('\\th\\t', constants.h)\n",
    "print('\\th_cort\\t', constants.hbar)\n",
    "print('Cte gravitacional:', constants.G)\n",
    "print('Carga do elétron:', constants.e)\n",
    "print('Massa do elétron:', constants.m_e)"
   ]
  },
  {
   "cell_type": "code",
   "execution_count": null,
   "metadata": {},
   "outputs": [],
   "source": [
    "constants.physical_constants['Bohr magneton']"
   ]
  },
  {
   "cell_type": "markdown",
   "metadata": {},
   "source": [
    "## scipy.special"
   ]
  },
  {
   "cell_type": "markdown",
   "metadata": {},
   "source": [
    "**Funções trigonométricas**"
   ]
  },
  {
   "cell_type": "code",
   "execution_count": null,
   "metadata": {},
   "outputs": [],
   "source": [
    "x = np.linspace(0, 360, 100)\n",
    "s = special.sindg(x)# Argumento em graus.\n",
    "c = special.cosdg(x)\n",
    "t = special.tandg(x)\n",
    "\n",
    "plt.plot(x, s, label = 'sen')\n",
    "plt.plot(x, c, label = 'cos')\n",
    "plt.plot(x, t, label = 'tg')\n",
    "\n",
    "plt.legend()\n",
    "plt.ylim(-2, 2)"
   ]
  },
  {
   "cell_type": "markdown",
   "metadata": {},
   "source": [
    "**Funções de Bessel**"
   ]
  },
  {
   "cell_type": "code",
   "execution_count": null,
   "metadata": {},
   "outputs": [],
   "source": [
    "x = np.linspace(0, 10, 100)\n",
    "b_J = special.jv(0, x)# Função de Bessel do primeira espécie J.\n",
    "b_Y = special.yn(0, x)# Função de Bessel de segunda espécie Y.\n",
    "\n",
    "plt.plot(x, b_J)\n",
    "plt.plot(x, b_Y)"
   ]
  },
  {
   "cell_type": "markdown",
   "metadata": {},
   "source": [
    "**Polinômios de Legendre**"
   ]
  },
  {
   "cell_type": "code",
   "execution_count": null,
   "metadata": {},
   "outputs": [],
   "source": [
    "x = np.linspace(-1, 1)\n",
    "for n in range(5):\n",
    "    plt.plot(x, special.eval_legendre(n, x))"
   ]
  },
  {
   "cell_type": "markdown",
   "metadata": {},
   "source": [
    "## scipy.integrate"
   ]
  },
  {
   "cell_type": "markdown",
   "metadata": {},
   "source": [
    "**quad()**"
   ]
  },
  {
   "cell_type": "code",
   "execution_count": null,
   "metadata": {},
   "outputs": [],
   "source": [
    "a = 0\n",
    "b = np.pi\n",
    "integrate.quad(np.sin, a, b)"
   ]
  },
  {
   "cell_type": "markdown",
   "metadata": {},
   "source": [
    "**simps() e trapz()**"
   ]
  },
  {
   "cell_type": "code",
   "execution_count": null,
   "metadata": {},
   "outputs": [],
   "source": [
    "x = np.arange(0, 11)\n",
    "y = 2*x\n",
    "integrate.simps(y, x)"
   ]
  },
  {
   "cell_type": "code",
   "execution_count": null,
   "metadata": {},
   "outputs": [],
   "source": [
    "integrate.trapz(y, x)"
   ]
  },
  {
   "cell_type": "code",
   "execution_count": null,
   "metadata": {},
   "outputs": [],
   "source": [
    "x = np.arange(0,6).reshape(2,3)\n",
    "y = 2*x\n",
    "print(x)\n",
    "print(y)\n",
    "\n",
    "integrate.simps(y, x)"
   ]
  },
  {
   "cell_type": "code",
   "execution_count": null,
   "metadata": {},
   "outputs": [],
   "source": [
    "integrate.trapz(y, x)"
   ]
  },
  {
   "cell_type": "markdown",
   "metadata": {},
   "source": [
    "**Complicando um pouco...**"
   ]
  },
  {
   "cell_type": "code",
   "execution_count": null,
   "metadata": {},
   "outputs": [],
   "source": [
    "x = np.arange(0,8).reshape(2,2,2)\n",
    "x"
   ]
  },
  {
   "cell_type": "code",
   "execution_count": null,
   "metadata": {},
   "outputs": [],
   "source": [
    "y = 2*x\n",
    "integrate.trapz(y, x)"
   ]
  },
  {
   "cell_type": "markdown",
   "metadata": {},
   "source": [
    "## scipy.stats"
   ]
  },
  {
   "cell_type": "code",
   "execution_count": null,
   "metadata": {},
   "outputs": [],
   "source": [
    "np.random.seed(100)\n",
    "dados = np.random.normal(size = 50)\n",
    "print(dados)"
   ]
  },
  {
   "cell_type": "code",
   "execution_count": null,
   "metadata": {},
   "outputs": [],
   "source": [
    "stats.describe(dados)"
   ]
  },
  {
   "cell_type": "code",
   "execution_count": null,
   "metadata": {},
   "outputs": [],
   "source": [
    "descr = stats.describe(dados)\n",
    "print('N:', descr.nobs)\n",
    "print('Min/max:', descr.minmax)\n",
    "print('Média:', descr.mean)"
   ]
  },
  {
   "cell_type": "markdown",
   "metadata": {},
   "source": [
    "**Fit linear**"
   ]
  },
  {
   "cell_type": "code",
   "execution_count": null,
   "metadata": {},
   "outputs": [],
   "source": [
    "x = np.linspace(-10, 10, 100)\n",
    "y0 = 2*x\n",
    "\n",
    "np.random.seed(100)# Define a sequência de números aleatórios usada.\n",
    "yr = np.random.normal(0, 5, len(x))# Média, num de pontos e desv padrão.\n",
    "y = y0 + yr\n",
    "\n",
    "fig, axes = plt.subplots(nrows = 1, ncols = 2, figsize = (8,3))\n",
    "axes[0].plot(x, y, 'o')\n",
    "axes[1].hist(yr);"
   ]
  },
  {
   "cell_type": "code",
   "execution_count": null,
   "metadata": {},
   "outputs": [],
   "source": [
    "slope, intercept, r_value, p_value, std_err = stats.linregress(x,y)\n",
    "print('slope:', slope)\n",
    "print('intercept:', intercept)\n",
    "print('r_value:', r_value)\n",
    "print('p_value:', p_value)\n",
    "print('std_err:', std_err)\n",
    "\n",
    "plt.plot(x, y, 'o')\n",
    "plt.plot(x, slope*x+intercept, '-r')"
   ]
  },
  {
   "cell_type": "markdown",
   "metadata": {},
   "source": [
    "## scipy.optimize"
   ]
  },
  {
   "cell_type": "markdown",
   "metadata": {},
   "source": [
    "**Fit linear**"
   ]
  },
  {
   "cell_type": "code",
   "execution_count": null,
   "metadata": {},
   "outputs": [],
   "source": [
    "def func(x, c0, c1):\n",
    "    return c0+c1*x\n",
    "\n",
    "params, covar = optimize.curve_fit(func, x, y)\n",
    "param_err = np.sqrt(np.diag(covar))\n",
    "for i in range(len(params)):\n",
    "    print('c{} = {:.3f} +- {:.3f}'.format(i, params[i], param_err[i]))\n",
    "\n",
    "plt.plot(x, y, 'o')\n",
    "plt.plot(x, func(x, *params), '-r')"
   ]
  },
  {
   "cell_type": "markdown",
   "metadata": {},
   "source": [
    "**Fit não linear**"
   ]
  },
  {
   "cell_type": "code",
   "execution_count": null,
   "metadata": {},
   "outputs": [],
   "source": [
    "def func(x, c0, c1, c2):\n",
    "    return (x-c0)*(x-c1)**c2"
   ]
  },
  {
   "cell_type": "code",
   "execution_count": null,
   "metadata": {},
   "outputs": [],
   "source": [
    "x = np.linspace(0, 10, 100)\n",
    "y0 = func(x, 5, -1, 1.5)\n",
    "\n",
    "np.random.seed(100)\n",
    "yr = np.random.normal(0, 5, len(x))\n",
    "y = y0 + yr\n",
    "\n",
    "fig, axes = plt.subplots(nrows = 1, ncols = 2, figsize = (8,3))\n",
    "axes[0].plot(x, y, 'o')\n",
    "axes[1].hist(yr);"
   ]
  },
  {
   "cell_type": "code",
   "execution_count": null,
   "metadata": {},
   "outputs": [],
   "source": [
    "#guess = [1, -1, 1]\n",
    "#bounds = ((-10, -10, -10), (10, 10, 10))\n",
    "params, covar = optimize.curve_fit(func, x, y)\n",
    "param_err = np.sqrt(np.diag(covar))\n",
    "for i in range(len(params)):\n",
    "    print('c{} = {:.3f} +- {:.3f}'.format(i, params[i], param_err[i]))\n",
    "\n",
    "plt.plot(x, y, 'o')\n",
    "plt.plot(x, func(x, *params), '-r')"
   ]
  },
  {
   "cell_type": "markdown",
   "metadata": {},
   "source": [
    "**root_scalar() - encontrar raízes de funções**"
   ]
  },
  {
   "cell_type": "code",
   "execution_count": null,
   "metadata": {},
   "outputs": [],
   "source": [
    "def f(x):\n",
    "    return x**2-9\n",
    "def flinha(x):\n",
    "    return 2*x"
   ]
  },
  {
   "cell_type": "markdown",
   "metadata": {},
   "source": [
    "*Método da bisseção*"
   ]
  },
  {
   "cell_type": "code",
   "execution_count": null,
   "metadata": {},
   "outputs": [],
   "source": [
    "optimize.root_scalar(f, method = 'bisect', bracket = (0, 10))"
   ]
  },
  {
   "cell_type": "code",
   "execution_count": null,
   "metadata": {},
   "outputs": [],
   "source": [
    "res = optimize.root_scalar(f, method = 'bisect', bracket = (0, 10))\n",
    "res.root"
   ]
  },
  {
   "cell_type": "markdown",
   "metadata": {},
   "source": [
    "*Método de Newton*"
   ]
  },
  {
   "cell_type": "code",
   "execution_count": null,
   "metadata": {},
   "outputs": [],
   "source": [
    "optimize.root_scalar(f, method = 'newton', x0 = 10, fprime = flinha)"
   ]
  },
  {
   "cell_type": "code",
   "execution_count": null,
   "metadata": {},
   "outputs": [],
   "source": [
    "res = optimize.root_scalar(f, method = 'newton', x0 = 10, fprime = flinha)\n",
    "res.root"
   ]
  },
  {
   "cell_type": "markdown",
   "metadata": {},
   "source": [
    "## scipy.signal"
   ]
  },
  {
   "cell_type": "code",
   "execution_count": null,
   "metadata": {},
   "outputs": [],
   "source": [
    "x = np.arange(11)\n",
    "y0 = 50 - 45*x + 10*x**2 - 0.5*x**3\n",
    "np.random.seed(10)\n",
    "yr = np.random.normal(0, 15, len(x))\n",
    "y = y0 + yr\n",
    "\n",
    "plt.plot(x, y, 'o')"
   ]
  },
  {
   "cell_type": "code",
   "execution_count": null,
   "metadata": {},
   "outputs": [],
   "source": [
    "yfiltro = signal.savgol_filter(y, 5, 2)\n",
    "\n",
    "plt.plot(x, y, 'o')\n",
    "plt.plot(x, yfiltro, '-')"
   ]
  },
  {
   "cell_type": "markdown",
   "metadata": {},
   "source": [
    "## scipy.interpolate"
   ]
  },
  {
   "cell_type": "code",
   "execution_count": null,
   "metadata": {},
   "outputs": [],
   "source": [
    "f = interpolate.interp1d(x, y)\n",
    "xint = np.linspace(0, 10, 100)\n",
    "yint = f(xint)\n",
    "\n",
    "plt.plot(x, y, 'o', ms = 10)\n",
    "plt.plot(xint, yint, 'o')"
   ]
  },
  {
   "cell_type": "markdown",
   "metadata": {},
   "source": [
    "*(numpy também interpola dados)*"
   ]
  },
  {
   "cell_type": "code",
   "execution_count": null,
   "metadata": {},
   "outputs": [],
   "source": [
    "xint = np.linspace(0, 10)\n",
    "yint = np.interp(xint, x, y)\n",
    "\n",
    "plt.plot(x, y, 'o', ms = 10)\n",
    "plt.plot(xint, yint, 'o')"
   ]
  },
  {
   "cell_type": "code",
   "execution_count": null,
   "metadata": {},
   "outputs": [],
   "source": [
    "f = interpolate.CubicSpline(x, y)\n",
    "xint = np.linspace(0, 10)\n",
    "yint = f(xint)\n",
    "\n",
    "plt.plot(x, y, 'o', ms = 10)\n",
    "plt.plot(xint, yint, 'o')"
   ]
  },
  {
   "cell_type": "markdown",
   "metadata": {},
   "source": [
    "## Combinação de interp1d (interpolate) e savgol (signal)"
   ]
  },
  {
   "cell_type": "code",
   "execution_count": null,
   "metadata": {},
   "outputs": [],
   "source": [
    "f = interpolate.interp1d(x, y)\n",
    "xint = np.linspace(0, 10)\n",
    "yint = f(xint)\n",
    "\n",
    "yf = signal.savgol_filter(yint, 15, 2)\n",
    "\n",
    "plt.plot(x, y, 'o', ms = 10)\n",
    "plt.plot(xint, yf, 'o')"
   ]
  }
 ],
 "metadata": {
  "kernelspec": {
   "display_name": "Python 3",
   "language": "python",
   "name": "python3"
  },
  "language_info": {
   "codemirror_mode": {
    "name": "ipython",
    "version": 3
   },
   "file_extension": ".py",
   "mimetype": "text/x-python",
   "name": "python",
   "nbconvert_exporter": "python",
   "pygments_lexer": "ipython3",
   "version": "3.7.1"
  }
 },
 "nbformat": 4,
 "nbformat_minor": 4
}
